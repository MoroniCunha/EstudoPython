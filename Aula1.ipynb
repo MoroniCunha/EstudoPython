{
  "nbformat": 4,
  "nbformat_minor": 0,
  "metadata": {
    "colab": {
      "provenance": [],
      "authorship_tag": "ABX9TyPgTx9lymbAGEtYPyDIQU9F",
      "include_colab_link": true
    },
    "kernelspec": {
      "name": "python3",
      "display_name": "Python 3"
    },
    "language_info": {
      "name": "python"
    }
  },
  "cells": [
    {
      "cell_type": "markdown",
      "metadata": {
        "id": "view-in-github",
        "colab_type": "text"
      },
      "source": [
        "<a href=\"https://colab.research.google.com/github/MoroniCunha/EstudoPython/blob/main/Aula1.ipynb\" target=\"_parent\"><img src=\"https://colab.research.google.com/assets/colab-badge.svg\" alt=\"Open In Colab\"/></a>"
      ]
    },
    {
      "cell_type": "code",
      "source": [
        "name = input (\"Bom dia, Qual é o seu nome? \");\n",
        "color = input (\"Você tem uma cor favorita? \");\n",
        "print(\"Muito prazer \" + name + \", Gostei que sua cor favorita é \" + color);"
      ],
      "metadata": {
        "colab": {
          "base_uri": "https://localhost:8080/"
        },
        "id": "Sn7vk4BZvKts",
        "outputId": "4d48e913-8fe4-48c5-d55f-c8f4e0ad5144"
      },
      "execution_count": null,
      "outputs": [
        {
          "output_type": "stream",
          "name": "stdout",
          "text": [
            "Bom dia, Qual é o seu nome? Moroni\n",
            "Você tem uma cor favorita? Azul\n",
            "Muito prazer Moroni, Gostei que sua cor favorita é Azul\n"
          ]
        }
      ]
    }
  ]
}