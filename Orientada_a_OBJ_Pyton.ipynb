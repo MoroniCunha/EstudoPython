{
  "cells": [
    {
      "cell_type": "markdown",
      "metadata": {
        "id": "view-in-github",
        "colab_type": "text"
      },
      "source": [
        "<a href=\"https://colab.research.google.com/github/MoroniCunha/EstudoPython/blob/main/Orientada_a_OBJ_Pyton.ipynb\" target=\"_parent\"><img src=\"https://colab.research.google.com/assets/colab-badge.svg\" alt=\"Open In Colab\"/></a>"
      ]
    },
    {
      "cell_type": "code",
      "source": [
        "class Dog ():\n",
        "\n",
        "  def __init__ (self, name, age):\n",
        "    self.name = name\n",
        "    self.age = age\n",
        "\n",
        "  def bark(self):\n",
        "    print(self.name, \"esta latindo\")\n",
        "\n",
        "  def addYear(self):\n",
        "    self.age += 1\n",
        "\n",
        "  def getInfo(self):\n",
        "    print(f\"{self.name}, tem {self.age}, anos\")\n",
        "\n",
        "  class Poodle(Dog):\n",
        "    def __init__ (self, name, age, color, weight):\n",
        "      super().__init__(name,age)\n",
        "      self.color = color\n",
        "      self.weight = weight\n",
        "\n",
        "    def bark(self, manner=\"freneticamente\"):\n",
        "      print(f\"{self.name} esta latindo {manner}\")\n",
        "\n",
        "    def getInfo(self):\n",
        "      print(f\"{self.name} tem {self.age} anos, eh da cor {self.color} e pesa {self.weight} kg.\")\n",
        "\n",
        "  class Lhasa(Dog):\n",
        "    def __init__ (self, name, age, color, weight):\n",
        "      super().__init__(name,age)\n",
        "      self.color = color\n",
        "      self.weight = weight\n",
        "\n",
        "    def bark(self, manner=\"baixo\"):\n",
        "      print(f\"{self.name} está latindo {manner}.\")\n",
        "\n",
        "    def getInfo(self):\n",
        "      print(f\"{self.name} tem {self.age} anos, eh da cor {self.color} e pesa {self.weight} kg.\")"
      ],
      "metadata": {
        "id": "GhC6BK43IQEe"
      },
      "execution_count": 12,
      "outputs": []
    },
    {
      "cell_type": "code",
      "source": [
        "dog1 = Dog(\"Lucy\",4)\n",
        "dog1.bark()\n",
        "dog1.getInfo()"
      ],
      "metadata": {
        "colab": {
          "base_uri": "https://localhost:8080/"
        },
        "id": "-gnATzebeQ9t",
        "outputId": "bc03c1a2-d643-4c51-ab00-a0840890925c"
      },
      "execution_count": 16,
      "outputs": [
        {
          "output_type": "stream",
          "name": "stdout",
          "text": [
            "Lucy esta latindo\n",
            "Lucy, tem 4, anos\n"
          ]
        }
      ]
    },
    {
      "cell_type": "code",
      "source": [
        "dog1.addYear()\n",
        "dog1.getInfo()"
      ],
      "metadata": {
        "colab": {
          "base_uri": "https://localhost:8080/"
        },
        "id": "lxjSyTk1ft32",
        "outputId": "8e1600b6-a4f7-4698-dfa5-7c1d45961f41"
      },
      "execution_count": 17,
      "outputs": [
        {
          "output_type": "stream",
          "name": "stdout",
          "text": [
            "Lucy, tem 5, anos\n"
          ]
        }
      ]
    },
    {
      "cell_type": "code",
      "source": [
        "dog1 = Poodle(\"Lucy\",4,\"branco\",9)\n",
        "dog1.getInfo()\n",
        "dog1.bark()"
      ],
      "metadata": {
        "colab": {
          "base_uri": "https://localhost:8080/"
        },
        "id": "W9t_xg7df2kw",
        "outputId": "4cadc95a-7a3c-40f9-fea8-4507cf34fe0d"
      },
      "execution_count": 19,
      "outputs": [
        {
          "output_type": "stream",
          "name": "stdout",
          "text": [
            "Lucy tem 4 anos, eh da cor branco e pesa 9 kg.\n",
            "Lucy esta latindo freneticamente\n"
          ]
        }
      ]
    },
    {
      "cell_type": "code",
      "source": [
        "dog2 = Lhasa(\"Zelda\",14,\"marrom\",20)\n",
        "dog2.bark()\n",
        "dog2.getInfo()"
      ],
      "metadata": {
        "colab": {
          "base_uri": "https://localhost:8080/"
        },
        "id": "VTgeesfSgSoU",
        "outputId": "ebaa9ddc-1272-4859-96d1-ee1588b7a200"
      },
      "execution_count": 20,
      "outputs": [
        {
          "output_type": "stream",
          "name": "stdout",
          "text": [
            "Zelda está latindo baixo.\n",
            "Zelda tem 14 anos, eh da cor marrom e pesa 20 kg.\n"
          ]
        }
      ]
    }
  ],
  "metadata": {
    "colab": {
      "toc_visible": true,
      "provenance": [],
      "include_colab_link": true
    },
    "kernelspec": {
      "display_name": "Python 3",
      "name": "python3"
    }
  },
  "nbformat": 4,
  "nbformat_minor": 0
}