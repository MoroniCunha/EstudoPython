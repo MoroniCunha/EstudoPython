{
  "nbformat": 4,
  "nbformat_minor": 0,
  "metadata": {
    "colab": {
      "provenance": [],
      "authorship_tag": "ABX9TyMYxvIzIjgcucnZ1ZICz4EZ",
      "include_colab_link": true
    },
    "kernelspec": {
      "name": "python3",
      "display_name": "Python 3"
    },
    "language_info": {
      "name": "python"
    }
  },
  "cells": [
    {
      "cell_type": "markdown",
      "metadata": {
        "id": "view-in-github",
        "colab_type": "text"
      },
      "source": [
        "<a href=\"https://colab.research.google.com/github/MoroniCunha/EstudoPython/blob/main/Aula2.ipynb\" target=\"_parent\"><img src=\"https://colab.research.google.com/assets/colab-badge.svg\" alt=\"Open In Colab\"/></a>"
      ]
    },
    {
      "cell_type": "code",
      "execution_count": null,
      "metadata": {
        "colab": {
          "base_uri": "https://localhost:8080/"
        },
        "id": "-XtF7HMY9lUn",
        "outputId": "b7e13a47-4fe8-4384-d77a-51e708bae415"
      },
      "outputs": [
        {
          "output_type": "stream",
          "name": "stdout",
          "text": [
            "---- Bem Vindo(a) a casa de limpeza do Morôni Cunha Silva -----\n",
            "------------ Menu 1 de 3 - Metragem Limpeza -------------------\n",
            "Qual a metragem do lugar a ser limpo (digite em m²):10\n",
            "Digite um valor entre 30m² a 699m².\n",
            "Qual a metragem do lugar a ser limpo (digite em m²):45\n",
            "Deve-se contratar 1 pessoa.\n",
            "------------ Menu 2 de 3 - Tipo Limpeza -----------------------\n",
            "Escolha o tipo de Limpeza\n",
            "B - Limpeza Basica, Indicada para sujeiras semanais ou quinzenais; \n",
            "C - Limpeza Completa, Indicada para sujeiras antigas, ou limpezas não rotineiras. \n",
            ">>:D\n",
            "Digite apenas B ou C.\n",
            "Escolha o tipo de Limpeza\n",
            "B - Limpeza Basica, Indicada para sujeiras semanais ou quinzenais; \n",
            "C - Limpeza Completa, Indicada para sujeiras antigas, ou limpezas não rotineiras. \n",
            ">>:B\n",
            "------------ Menu 3 de 3 - Adicionais Limpeza -----------------\n",
            "Deseja algum adicional: \n",
            "0 - Desejo mais nada (encerrar) \n",
            "1 - Passar 10 peças de roupa - R$10,00 \n",
            "2 - Limpeza de 1 Forno/Micro-ondas - R$12,00 \n",
            "3 - Limpeza de uma Geladeira/Freezer R$20,00 \n",
            ">>:1\n",
            "Deseja algum adicional: \n",
            "0 - Desejo mais nada (encerrar) \n",
            "1 - Passar 10 peças de roupa - R$10,00 \n",
            "2 - Limpeza de 1 Forno/Micro-ondas - R$12,00 \n",
            "3 - Limpeza de uma Geladeira/Freezer R$20,00 \n",
            ">>:2\n",
            "Deseja algum adicional: \n",
            "0 - Desejo mais nada (encerrar) \n",
            "1 - Passar 10 peças de roupa - R$10,00 \n",
            "2 - Limpeza de 1 Forno/Micro-ondas - R$12,00 \n",
            "3 - Limpeza de uma Geladeira/Freezer R$20,00 \n",
            ">>:3\n",
            "Deseja algum adicional: \n",
            "0 - Desejo mais nada (encerrar) \n",
            "1 - Passar 10 peças de roupa - R$10,00 \n",
            "2 - Limpeza de 1 Forno/Micro-ondas - R$12,00 \n",
            "3 - Limpeza de uma Geladeira/Freezer R$20,00 \n",
            ">>:0\n",
            "O valor total ficou R$115.50 (Metragem: 73.50, Tipo: 1.00, Adicional: 42.00)\n"
          ]
        }
      ],
      "source": [
        "# Exercicio 3\n",
        "\n",
        "def metragemlimpeza(): # Inicio da Função Metragem Limpeza\n",
        "  print('------------ Menu 1 de 3 - Metragem Limpeza -------------------')\n",
        "  while True:\n",
        "    try: #Comando \"try\" serve para testarmos os valores inseridos, para caso tenha um erro, possamos escolher qual será o próximo passo\n",
        "      metralim = int(input('Qual a metragem do lugar a ser limpo (digite em m²):'))\n",
        "      if (metralim >= 30) and (metralim <300):\n",
        "        print('Deve-se contratar 1 pessoa.') # De acordo com a metragem do ambiente, é informado quantas pessoas irão trabalhar com a limpeza do imovel\n",
        "        return 60 + 0.3 * metralim\n",
        "      elif (metralim >= 300) and (metralim < 700):\n",
        "          print('Deve-se contratar 2 pesoas.')\n",
        "          return 120 + 0.5 * metralim\n",
        "      else:\n",
        "        print('Digite um valor entre 30m² a 699m².') # Caso o usuario digite um valor divergente, retornará a pergunta\n",
        "    except ValueError:\n",
        "          print('Apenas digite valores inteiros.')\n",
        "def tipolimpeza(): # Inicio da Função Tipo Limpeza\n",
        "  print('------------ Menu 2 de 3 - Tipo Limpeza -----------------------')\n",
        "  while True: # Nesse campo, de acordo com o tipo de limpeza escolhida pelo usuario, será informado omultiplicador do valor total do pedio\n",
        "    tipolim = input('Escolha o tipo de Limpeza\\n'+\n",
        "                    'B - Limpeza Basica, Indicada para sujeiras semanais ou quinzenais; \\n'+\n",
        "                    'C - Limpeza Completa, Indicada para sujeiras antigas, ou limpezas não rotineiras. \\n' +\n",
        "                    '>>:')\n",
        "    tipolim = tipolim.lower()\n",
        "    if (tipolim == 'b'):\n",
        "      return 1.00\n",
        "    elif (tipolim == 'c'):\n",
        "      return 1.30\n",
        "    else:\n",
        "      print('Digite apenas B ou C.')\n",
        "      continue\n",
        "\n",
        "def adicionaislimpeza(): # Inicio da Função Adicionais Limpeza'\n",
        "  print('------------ Menu 3 de 3 - Adicionais Limpeza -----------------')\n",
        "  acumuladora = 0 #Muito semelhante ao exercico do sorvete, essa variavel serve para acumular o valor total do pedido conforme o usuario continua adicionando valor a ela, até o usuario encerrar\n",
        "  while True:\n",
        "    adilim = input('Deseja algum adicional: \\n'+\n",
        "                       '0 - Desejo mais nada (encerrar) \\n'+\n",
        "                       '1 - Passar 10 peças de roupa - R$10,00 \\n'+\n",
        "                       '2 - Limpeza de 1 Forno/Micro-ondas - R$12,00 \\n'+\n",
        "                       '3 - Limpeza de uma Geladeira/Freezer R$20,00 \\n'+\n",
        "                       '>>:')\n",
        "    if adilim == '0':\n",
        "      return acumuladora\n",
        "    elif adilim == '1':\n",
        "      acumuladora = acumuladora + 10\n",
        "      continue\n",
        "    elif adilim == '2':\n",
        "      acumuladora = acumuladora + 12\n",
        "      continue\n",
        "    elif adilim == '3':\n",
        "      acumuladora = acumuladora + 20\n",
        "      continue\n",
        "    else:\n",
        "      print('Digite apenas número de 0 a 3 ')\n",
        "\n",
        "# Inicio do Main\n",
        "print('---- Bem Vindo(a) a casa de limpeza do Morôni Cunha Silva -----')\n",
        "metra = metragemlimpeza() # As funções são mostradas\n",
        "tipo = tipolimpeza()\n",
        "adi = adicionaislimpeza()\n",
        "total = metra * tipo + adi\n",
        "print('O valor total ficou R${:.2f} (Metragem: {:.2f}, Tipo: {:.2f}, Adicional: {:.2f})' .format(total, metra, tipo, adi))\n",
        "# Fim do programa 4226094\n"
      ]
    }
  ]
}