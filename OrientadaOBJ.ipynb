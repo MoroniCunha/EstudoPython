{
  "nbformat": 4,
  "nbformat_minor": 0,
  "metadata": {
    "colab": {
      "provenance": [],
      "authorship_tag": "ABX9TyNA28LlOV4Z7mCG2EPNfuxL",
      "include_colab_link": true
    },
    "kernelspec": {
      "name": "python3",
      "display_name": "Python 3"
    },
    "language_info": {
      "name": "python"
    }
  },
  "cells": [
    {
      "cell_type": "markdown",
      "metadata": {
        "id": "view-in-github",
        "colab_type": "text"
      },
      "source": [
        "<a href=\"https://colab.research.google.com/github/MoroniCunha/EstudoPython/blob/main/OrientadaOBJ.ipynb\" target=\"_parent\"><img src=\"https://colab.research.google.com/assets/colab-badge.svg\" alt=\"Open In Colab\"/></a>"
      ]
    },
    {
      "cell_type": "code",
      "execution_count": 19,
      "metadata": {
        "id": "eRVwjdQREEUL"
      },
      "outputs": [],
      "source": [
        "class Dog ():\n",
        "  def __init__(self, name, age):\n",
        "    self.name = name\n",
        "    self.age = age;\n",
        "\n",
        "  def bark(self):\n",
        "    print (\"Au Au\")\n"
      ]
    },
    {
      "cell_type": "code",
      "source": [
        "lucy = Dog(\"Lucy\", 4)"
      ],
      "metadata": {
        "id": "0V5T3_DbF5yb"
      },
      "execution_count": 20,
      "outputs": []
    },
    {
      "cell_type": "code",
      "source": [
        "lucy.bark()\n",
        "print (lucy.name)\n",
        "print (lucy.age)"
      ],
      "metadata": {
        "colab": {
          "base_uri": "https://localhost:8080/"
        },
        "id": "AzGsXBFQHHCC",
        "outputId": "2efca2b1-6270-4c22-b8f0-6faff633f483"
      },
      "execution_count": 21,
      "outputs": [
        {
          "output_type": "stream",
          "name": "stdout",
          "text": [
            "Au Au\n",
            "Lucy\n",
            "4\n"
          ]
        }
      ]
    },
    {
      "cell_type": "code",
      "source": [
        "lucy.age += 1"
      ],
      "metadata": {
        "id": "JXnxNpWCHnEc"
      },
      "execution_count": 22,
      "outputs": []
    },
    {
      "cell_type": "code",
      "source": [
        "print (lucy.age)"
      ],
      "metadata": {
        "colab": {
          "base_uri": "https://localhost:8080/"
        },
        "id": "Cnx9upwuHsoz",
        "outputId": "f88a69f1-b26a-4173-8d63-dc8a32845040"
      },
      "execution_count": 23,
      "outputs": [
        {
          "output_type": "stream",
          "name": "stdout",
          "text": [
            "5\n"
          ]
        }
      ]
    }
  ]
}